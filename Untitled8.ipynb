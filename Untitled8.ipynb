{
  "nbformat": 4,
  "nbformat_minor": 0,
  "metadata": {
    "colab": {
      "name": "Untitled8.ipynb",
      "provenance": [],
      "authorship_tag": "ABX9TyOaJclIpSB/q6HXgNoLcDKl",
      "include_colab_link": true
    },
    "kernelspec": {
      "name": "python3",
      "display_name": "Python 3"
    }
  },
  "cells": [
    {
      "cell_type": "markdown",
      "metadata": {
        "id": "view-in-github",
        "colab_type": "text"
      },
      "source": [
        "<a href=\"https://colab.research.google.com/github/japnit01/Handwritten_digits/blob/main/Untitled8.ipynb\" target=\"_parent\"><img src=\"https://colab.research.google.com/assets/colab-badge.svg\" alt=\"Open In Colab\"/></a>"
      ]
    },
    {
      "cell_type": "code",
      "metadata": {
        "id": "lG7LABDlBE1W"
      },
      "source": [
        "import numpy as np\n",
        "import os\n",
        "\n",
        "def load_dataset():\n",
        "    def download(filename,source=\"http://yann.lecun.com/exdb/mnist/\"):\n",
        "        print(\"Downloading\",filename)\n",
        "        import urllib.request\n",
        "        urllib.request.urlretrieve(source+filename,filename)\n",
        "\n",
        "    import gzip\n",
        "    def load_mnist_images(filename):\n",
        "        if not os.path.exists(filename):\n",
        "            download(filename)\n",
        "        with gzip.open(filename,'rb') as f:\n",
        "             data = np.frombuffer(f.read(),np.uint8,offset=16)\n",
        "             data = data.reshape(-1,1,28,28)\n",
        "             return data/np.float32(256)\n",
        "\n",
        "    def load_mnist_labels(filename):\n",
        "            if not os.path.exists(filename):\n",
        "               download(filename)\n",
        "            with gzip.open(filename,'rb') as f:\n",
        "               data  = np.frombuffer(f.read(),np.uint8,offset=8)\n",
        "            return data\n",
        "\n",
        "    x_train = load_mnist_images('train-images-idx3-ubyte.gz') \n",
        "    y_train = load_mnist_labels('train-labels-idx1-ubyte.gz')\n",
        "    x_test  = load_mnist_images('t10k-images-idx3-ubyte.gz')     \n",
        "    y_test  = load_mnist_labels('t10k-labels-idx1-ubyte.gz')\n",
        "            \n",
        "    return x_train,y_train,x_test,y_test"
      ],
      "execution_count": 3,
      "outputs": []
    },
    {
      "cell_type": "code",
      "metadata": {
        "id": "R37XsUGPB5we",
        "outputId": "b93d570a-f957-41fa-f16e-49185995b48e",
        "colab": {
          "base_uri": "https://localhost:8080/",
          "height": 305
        }
      },
      "source": [
        "x_train,y_train,x_test,y_test = load_dataset()"
      ],
      "execution_count": 4,
      "outputs": [
        {
          "output_type": "stream",
          "text": [
            "Downloading train-images-idx3-ubyte.gz\n"
          ],
          "name": "stdout"
        },
        {
          "output_type": "error",
          "ename": "NameError",
          "evalue": "ignored",
          "traceback": [
            "\u001b[0;31m---------------------------------------------------------------------------\u001b[0m",
            "\u001b[0;31mNameError\u001b[0m                                 Traceback (most recent call last)",
            "\u001b[0;32m<ipython-input-4-75fbb6e1450a>\u001b[0m in \u001b[0;36m<module>\u001b[0;34m()\u001b[0m\n\u001b[0;32m----> 1\u001b[0;31m \u001b[0mx_train\u001b[0m\u001b[0;34m,\u001b[0m\u001b[0my_train\u001b[0m\u001b[0;34m,\u001b[0m\u001b[0mx_test\u001b[0m\u001b[0;34m,\u001b[0m\u001b[0my_test\u001b[0m \u001b[0;34m=\u001b[0m \u001b[0mload_dataset\u001b[0m\u001b[0;34m(\u001b[0m\u001b[0;34m)\u001b[0m\u001b[0;34m\u001b[0m\u001b[0;34m\u001b[0m\u001b[0m\n\u001b[0m",
            "\u001b[0;32m<ipython-input-3-4306775ca27d>\u001b[0m in \u001b[0;36mload_dataset\u001b[0;34m()\u001b[0m\n\u001b[1;32m     25\u001b[0m \u001b[0;34m\u001b[0m\u001b[0m\n\u001b[1;32m     26\u001b[0m     \u001b[0mx_train\u001b[0m \u001b[0;34m=\u001b[0m \u001b[0mload_mnist_images\u001b[0m\u001b[0;34m(\u001b[0m\u001b[0;34m'train-images-idx3-ubyte.gz'\u001b[0m\u001b[0;34m)\u001b[0m\u001b[0;34m\u001b[0m\u001b[0;34m\u001b[0m\u001b[0m\n\u001b[0;32m---> 27\u001b[0;31m     \u001b[0my_train\u001b[0m \u001b[0;34m=\u001b[0m \u001b[0mload_mnist_labels\u001b[0m\u001b[0;34m(\u001b[0m\u001b[0;34m'train-labels-idx1-ubyte.gz'\u001b[0m\u001b[0;34m)\u001b[0m\u001b[0;34m\u001b[0m\u001b[0;34m\u001b[0m\u001b[0m\n\u001b[0m\u001b[1;32m     28\u001b[0m     \u001b[0mx_test\u001b[0m  \u001b[0;34m=\u001b[0m \u001b[0mload_mnist_images\u001b[0m\u001b[0;34m(\u001b[0m\u001b[0;34m't10k-images-idx3-ubyte.gz'\u001b[0m\u001b[0;34m)\u001b[0m\u001b[0;34m\u001b[0m\u001b[0;34m\u001b[0m\u001b[0m\n\u001b[1;32m     29\u001b[0m     \u001b[0my_test\u001b[0m  \u001b[0;34m=\u001b[0m \u001b[0mload_mnist_labels\u001b[0m\u001b[0;34m(\u001b[0m\u001b[0;34m't10k-labels-idx1-ubyte.gz'\u001b[0m\u001b[0;34m)\u001b[0m\u001b[0;34m\u001b[0m\u001b[0;34m\u001b[0m\u001b[0m\n",
            "\u001b[0;31mNameError\u001b[0m: name 'load_mnist_labels' is not defined"
          ]
        }
      ]
    }
  ]
}