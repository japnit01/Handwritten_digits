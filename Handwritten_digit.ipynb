{
  "nbformat": 4,
  "nbformat_minor": 0,
  "metadata": {
    "colab": {
      "name": "Handwritten_digit.ipynb",
      "provenance": [],
      "mount_file_id": "1N3xOoayWGmAx3xSIRo_R2K0J4yC5zXXa",
      "authorship_tag": "ABX9TyM/pM8rgko2oj4qoEQuGhM/",
      "include_colab_link": true
    },
    "kernelspec": {
      "name": "python3",
      "display_name": "Python 3"
    }
  },
  "cells": [
    {
      "cell_type": "markdown",
      "metadata": {
        "id": "view-in-github",
        "colab_type": "text"
      },
      "source": [
        "<a href=\"https://colab.research.google.com/github/japnit01/Handwritten_digits/blob/main/Handwritten_digit.ipynb\" target=\"_parent\"><img src=\"https://colab.research.google.com/assets/colab-badge.svg\" alt=\"Open In Colab\"/></a>"
      ]
    },
    {
      "cell_type": "code",
      "metadata": {
        "id": "6PUtNGwqFOCV",
        "outputId": "285550be-49d8-4362-d17e-cf92b7081dc0",
        "colab": {
          "base_uri": "https://localhost:8080/",
          "height": 55
        }
      },
      "source": [
        "from google.colab import drive\n",
        "drive.mount('/content/drive')\n"
      ],
      "execution_count": 3,
      "outputs": [
        {
          "output_type": "stream",
          "text": [
            "Drive already mounted at /content/drive; to attempt to forcibly remount, call drive.mount(\"/content/drive\", force_remount=True).\n"
          ],
          "name": "stdout"
        }
      ]
    },
    {
      "cell_type": "code",
      "metadata": {
        "id": "r8B_KVfZh_lr"
      },
      "source": [
        "import keras"
      ],
      "execution_count": 4,
      "outputs": []
    },
    {
      "cell_type": "code",
      "metadata": {
        "id": "lG7LABDlBE1W"
      },
      "source": [
        "#importing libraries\n",
        "import numpy as np\n",
        "from keras.datasets import mnist\n",
        "from keras.layers import Dense, Flatten\n",
        "from keras.layers.convolutional import Conv2D\n",
        "from keras.models import Sequential\n",
        "from keras.utils import to_categorical\n",
        "import matplotlib.pyplot as plt"
      ],
      "execution_count": 5,
      "outputs": []
    },
    {
      "cell_type": "code",
      "metadata": {
        "id": "R37XsUGPB5we",
        "outputId": "7c1fbb1b-46f8-4d10-ab1d-a41ced8875e8",
        "colab": {
          "base_uri": "https://localhost:8080/",
          "height": 52
        }
      },
      "source": [
        "(x_train, y_train), (x_test, y_test) = mnist.load_data()"
      ],
      "execution_count": 6,
      "outputs": [
        {
          "output_type": "stream",
          "text": [
            "Downloading data from https://storage.googleapis.com/tensorflow/tf-keras-datasets/mnist.npz\n",
            "11493376/11490434 [==============================] - 0s 0us/step\n"
          ],
          "name": "stdout"
        }
      ]
    },
    {
      "cell_type": "code",
      "metadata": {
        "id": "iCE3JR9rzzaZ",
        "outputId": "58b15e38-bf69-4d49-c8db-46fb47a5c862",
        "colab": {
          "base_uri": "https://localhost:8080/",
          "height": 283
        }
      },
      "source": [
        "#viewing the sample\n",
        "plt.imshow(x_train[0], cmap=\"gray\")\n",
        "plt.show()\n",
        "print (y_train[0])"
      ],
      "execution_count": 7,
      "outputs": [
        {
          "output_type": "display_data",
          "data": {
            "image/png": "[encoded data removed]",
            "text/plain": [
              "<Figure size 432x288 with 1 Axes>"
            ]
          },
          "metadata": {
            "tags": [],
            "needs_background": "light"
          }
        },
        {
          "output_type": "stream",
          "text": [
            "5\n"
          ],
          "name": "stdout"
        }
      ]
    },
    {
      "cell_type": "code",
      "metadata": {
        "id": "mYoiokRU1C66",
        "outputId": "8a1e8498-6089-4b36-b222-23337cb956a2",
        "colab": {
          "base_uri": "https://localhost:8080/",
          "height": 87
        }
      },
      "source": [
        "print(format(x_train.shape))\n",
        "print(format(x_test.shape))\n",
        "print(format(y_train.shape))\n",
        "print(format(y_test.shape))"
      ],
      "execution_count": 8,
      "outputs": [
        {
          "output_type": "stream",
          "text": [
            "(60000, 28, 28)\n",
            "(10000, 28, 28)\n",
            "(60000,)\n",
            "(10000,)\n"
          ],
          "name": "stdout"
        }
      ]
    },
    {
      "cell_type": "code",
      "metadata": {
        "id": "9XboTAzy1G_E"
      },
      "source": [
        "#reshaping the images for our model\n",
        "x_train = x_train.reshape(60000,28,28,1)\n",
        "x_test = x_test.reshape(10000,28,28,1)"
      ],
      "execution_count": 9,
      "outputs": []
    },
    {
      "cell_type": "code",
      "metadata": {
        "id": "9ESqc1rGUy4g",
        "outputId": "01c0c5bb-c959-4e81-de52-9ac9f1a7c073",
        "colab": {
          "base_uri": "https://localhost:8080/",
          "height": 87
        }
      },
      "source": [
        "print(format(x_train.shape))\n",
        "print(format(x_test.shape))\n",
        "print(format(y_train.shape))\n",
        "print(format(y_test.shape))"
      ],
      "execution_count": 10,
      "outputs": [
        {
          "output_type": "stream",
          "text": [
            "(60000, 28, 28, 1)\n",
            "(10000, 28, 28, 1)\n",
            "(60000,)\n",
            "(10000,)\n"
          ],
          "name": "stdout"
        }
      ]
    },
    {
      "cell_type": "code",
      "metadata": {
        "id": "MZZNy25vU3X4"
      },
      "source": [
        "#one hot encoding the labels\n",
        "y_train = to_categorical(y_train)\n",
        "y_test = to_categorical(y_test)"
      ],
      "execution_count": 11,
      "outputs": []
    },
    {
      "cell_type": "code",
      "metadata": {
        "id": "OFfz024CWgSS",
        "outputId": "4c6afc99-9731-4fca-867e-c8fb1e2ad738",
        "colab": {
          "base_uri": "https://localhost:8080/",
          "height": 260
        }
      },
      "source": [
        "print(y_train)\n",
        "print(y_test)"
      ],
      "execution_count": 12,
      "outputs": [
        {
          "output_type": "stream",
          "text": [
            "[[0. 0. 0. ... 0. 0. 0.]\n",
            " [1. 0. 0. ... 0. 0. 0.]\n",
            " [0. 0. 0. ... 0. 0. 0.]\n",
            " ...\n",
            " [0. 0. 0. ... 0. 0. 0.]\n",
            " [0. 0. 0. ... 0. 0. 0.]\n",
            " [0. 0. 0. ... 0. 1. 0.]]\n",
            "[[0. 0. 0. ... 1. 0. 0.]\n",
            " [0. 0. 1. ... 0. 0. 0.]\n",
            " [0. 1. 0. ... 0. 0. 0.]\n",
            " ...\n",
            " [0. 0. 0. ... 0. 0. 0.]\n",
            " [0. 0. 0. ... 0. 0. 0.]\n",
            " [0. 0. 0. ... 0. 0. 0.]]\n"
          ],
          "name": "stdout"
        }
      ]
    },
    {
      "cell_type": "markdown",
      "metadata": {
        "id": "kQEFtDvk-npY"
      },
      "source": [
        "1) The first layer takes in an input shape, 28, 28, 1 where 1 is greyscale.\n",
        "2) The second layer there is flatten layer b/w the Conv2D layers and the dense layer. Flatten serves as a connection between convolutional and dense layer\n",
        "3) taking 10 nodes in our output layer, one for each poss outcome (0-9)\n",
        "4) Softmax makes the output sum up to 1, so that the output contains a series of probabilities."
      ]
    },
    {
      "cell_type": "code",
      "metadata": {
        "id": "aTTDtufbW8j-"
      },
      "source": [
        "model = Sequential()\n",
        "\n",
        "#making layers \n",
        "model.add(Conv2D(64,(3,3), activation='relu', input_shape =(28,28,1)))\n",
        "model.add(Conv2D(32,(3,3), activation='relu'))\n",
        "model.add(Flatten())\n",
        "model.add(Dense(10,activation=\"softmax\"))"
      ],
      "execution_count": 13,
      "outputs": []
    },
    {
      "cell_type": "markdown",
      "metadata": {
        "id": "Bfiwo6CXB8n8"
      },
      "source": [
        "Compiling the model\n",
        "\n",
        "1)Optimizer - It controls the learning rate.\n",
        "2)Loss function - 'categorical_crossentropy' loss function. A lower score corresponds to better performance.\n",
        "3)Metric - metric is set to accuracy to see the accuracy score on the validation set while training the model."
      ]
    },
    {
      "cell_type": "code",
      "metadata": {
        "id": "N_8jM1HWhLAN"
      },
      "source": [
        "model.compile(optimizer='adam', loss='categorical_crossentropy', metrics=['accuracy'])"
      ],
      "execution_count": 14,
      "outputs": []
    },
    {
      "cell_type": "code",
      "metadata": {
        "id": "x_n_xagkjB1e",
        "outputId": "b9419678-ee82-4a3f-e997-42ae365ebe5c",
        "colab": {
          "base_uri": "https://localhost:8080/",
          "height": 159
        }
      },
      "source": [
        "model.fit(x_train,y_train,validation_data=(x_test,y_test),epochs=3)"
      ],
      "execution_count": 15,
      "outputs": [
        {
          "output_type": "stream",
          "text": [
            "Epoch 1/3\n",
            "1875/1875 [==============================] - 174s 93ms/step - loss: 0.2134 - accuracy: 0.9519 - val_loss: 0.0682 - val_accuracy: 0.9777\n",
            "Epoch 2/3\n",
            "1875/1875 [==============================] - 172s 92ms/step - loss: 0.0645 - accuracy: 0.9803 - val_loss: 0.0759 - val_accuracy: 0.9772\n",
            "Epoch 3/3\n",
            "1875/1875 [==============================] - 172s 92ms/step - loss: 0.0419 - accuracy: 0.9872 - val_loss: 0.0923 - val_accuracy: 0.9750\n"
          ],
          "name": "stdout"
        },
        {
          "output_type": "execute_result",
          "data": {
            "text/plain": [
              "<tensorflow.python.keras.callbacks.History at 0x7fb8bc796518>"
            ]
          },
          "metadata": {
            "tags": []
          },
          "execution_count": 15
        }
      ]
    },
    {
      "cell_type": "code",
      "metadata": {
        "id": "LFQGPkIXjo4p"
      },
      "source": [
        "test_image = x_train[1]\n",
        "prediction = model.predict(test_image.reshape(1, 28, 28, 1))"
      ],
      "execution_count": 16,
      "outputs": []
    },
    {
      "cell_type": "code",
      "metadata": {
        "id": "xfNOhx_PEbLP",
        "outputId": "82ad4df0-5ba0-4dce-c540-311e89a41a4c",
        "colab": {
          "base_uri": "https://localhost:8080/",
          "height": 35
        }
      },
      "source": [
        "pred_arr = np.zeros(prediction.shape)\n",
        "pred_arr[0][np.argmax(prediction)] =1\n",
        "print(pred_arr)"
      ],
      "execution_count": 17,
      "outputs": [
        {
          "output_type": "stream",
          "text": [
            "[[1. 0. 0. 0. 0. 0. 0. 0. 0. 0.]]\n"
          ],
          "name": "stdout"
        }
      ]
    },
    {
      "cell_type": "code",
      "metadata": {
        "id": "sLhqyd-sAxR6",
        "outputId": "98346439-ebdd-4d49-8099-e80ffac3a444",
        "colab": {
          "base_uri": "https://localhost:8080/",
          "height": 265
        }
      },
      "source": [
        "plt.imshow(test_image.reshape(28,28),cmap=\"gray\")\n",
        "plt.show()"
      ],
      "execution_count": 18,
      "outputs": [
        {
          "output_type": "display_data",
          "data": {
            "image/png": "[encoded data removed]",
            "text/plain": [
              "<Figure size 432x288 with 1 Axes>"
            ]
          },
          "metadata": {
            "tags": [],
            "needs_background": "light"
          }
        }
      ]
    },
    {
      "cell_type": "code",
      "metadata": {
        "id": "kJPtPpyZH-Xx",
        "outputId": "84f8ddde-0365-47ed-f16a-b9e09edec7d8",
        "colab": {
          "base_uri": "https://localhost:8080/",
          "height": 35
        }
      },
      "source": [
        "print(np.argmax(prediction))"
      ],
      "execution_count": 19,
      "outputs": [
        {
          "output_type": "stream",
          "text": [
            "0\n"
          ],
          "name": "stdout"
        }
      ]
    },
    {
      "cell_type": "markdown",
      "metadata": {
        "id": "_kODp7T41NuN"
      },
      "source": [
        "1) Convert that image to greyscale\n",
        "2) Threshold command helps by making only the digits in the image are white and rest is black\n",
        "3) contours will provide us the individual digits in the image\n",
        "4) the image has to be of shape (28, 28), it should contain the digit white coloured and background black coloured\n",
        "5) we'll resize it to (18,18)"
      ]
    },
    {
      "cell_type": "code",
      "metadata": {
        "id": "fHSTkzDHH-bZ",
        "outputId": "49b10590-86b3-4c29-e378-0cd54d62fc65",
        "colab": {
          "base_uri": "https://localhost:8080/",
          "height": 269
        }
      },
      "source": [
        "import cv2 \n",
        "img = cv2.imread('/content/testit.jpg')\n",
        "img1 = cv2.cvtColor(img.copy(), cv2.COLOR_BGR2GRAY)\n",
        "\n",
        "ret, thresh = cv2.threshold(img1.copy(), 90, 255, cv2.THRESH_BINARY_INV)\n",
        "contours, _ = cv2.findContours(thresh.copy(), cv2.RETR_EXTERNAL, cv2.CHAIN_APPROX_SIMPLE)\n",
        "\n",
        "arr_digits = []\n",
        "\n",
        "for c in contours:\n",
        "    x,y,l,b = cv2.boundingRect(c)\n",
        "    plt.imshow(cv2.rectangle(img, (x,y), (x+l, y+b), color=(0, 255, 0), thickness=1)) \n",
        "    digit = thresh[y:y+b, x:x+l]\n",
        "    resized_digit = cv2.resize(digit, (18,18))\n",
        "    padded_digit = np.pad(resized_digit, ((5,5),(5,5)), \"constant\", constant_values=0)\n",
        "    arr_digits.append(padded_digit)\n",
        "    #print(preprocessed_digits)\n",
        "#plt.imshow(image, cmap=\"gray\")\n",
        "#plt.show()"
      ],
      "execution_count": 27,
      "outputs": [
        {
          "output_type": "display_data",
          "data": {
            "image/png": "[encoded data removed]",
            "text/plain": [
              "<Figure size 432x288 with 1 Axes>"
            ]
          },
          "metadata": {
            "tags": [],
            "needs_background": "light"
          }
        }
      ]
    },
    {
      "cell_type": "code",
      "metadata": {
        "id": "EvGEIGu0YTrL"
      },
      "source": [
        "inp = np.array(arr_digits)"
      ],
      "execution_count": 28,
      "outputs": []
    },
    {
      "cell_type": "code",
      "metadata": {
        "id": "sER74pEwYV5z",
        "outputId": "0231ce48-6844-4576-c5fa-c58868f704ea",
        "colab": {
          "base_uri": "https://localhost:8080/",
          "height": 1000
        }
      },
      "source": [
        "for i in arr_digits :\n",
        "     prediction = model.predict(i.reshape(1,28,28,1))\n",
        "     plt.imshow(i.reshape(28,28),cmap=\"gray\")\n",
        "     plt.show()\n",
        "     print(np.argmax(prediction))\n",
        "     pred_arr = np.zeros(prediction.shape)\n",
        "     pred_arr[0][np.argmax(prediction)] =1\n",
        "     print(pred_arr)"
      ],
      "execution_count": 29,
      "outputs": [
        {
          "output_type": "display_data",
          "data": {
            "image/png": "[encoded data removed]",
            "text/plain": [
              "<Figure size 432x288 with 1 Axes>"
            ]
          },
          "metadata": {
            "tags": [],
            "needs_background": "light"
          }
        },
        {
          "output_type": "stream",
          "text": [
            "0\n",
            "[[1. 0. 0. 0. 0. 0. 0. 0. 0. 0.]]\n"
          ],
          "name": "stdout"
        },
        {
          "output_type": "display_data",
          "data": {
            "image/png": "[encoded data removed]",
            "text/plain": [
              "<Figure size 432x288 with 1 Axes>"
            ]
          },
          "metadata": {
            "tags": [],
            "needs_background": "light"
          }
        },
        {
          "output_type": "stream",
          "text": [
            "2\n",
            "[[0. 0. 1. 0. 0. 0. 0. 0. 0. 0.]]\n"
          ],
          "name": "stdout"
        },
        {
          "output_type": "display_data",
          "data": {
            "image/png": "[encoded data removed]",
            "text/plain": [
              "<Figure size 432x288 with 1 Axes>"
            ]
          },
          "metadata": {
            "tags": [],
            "needs_background": "light"
          }
        },
        {
          "output_type": "stream",
          "text": [
            "5\n",
            "[[0. 0. 0. 0. 0. 1. 0. 0. 0. 0.]]\n"
          ],
          "name": "stdout"
        },
        {
          "output_type": "display_data",
          "data": {
            "image/png": "[encoded data removed]",
            "text/plain": [
              "<Figure size 432x288 with 1 Axes>"
            ]
          },
          "metadata": {
            "tags": [],
            "needs_background": "light"
          }
        },
        {
          "output_type": "stream",
          "text": [
            "8\n",
            "[[0. 0. 0. 0. 0. 0. 0. 0. 1. 0.]]\n"
          ],
          "name": "stdout"
        },
        {
          "output_type": "display_data",
          "data": {
            "image/png": "[encoded data removed]",
            "text/plain": [
              "<Figure size 432x288 with 1 Axes>"
            ]
          },
          "metadata": {
            "tags": [],
            "needs_background": "light"
          }
        },
        {
          "output_type": "stream",
          "text": [
            "2\n",
            "[[0. 0. 1. 0. 0. 0. 0. 0. 0. 0.]]\n"
          ],
          "name": "stdout"
        },
        {
          "output_type": "display_data",
          "data": {
            "image/png": "[encoded data removed]",
            "text/plain": [
              "<Figure size 432x288 with 1 Axes>"
            ]
          },
          "metadata": {
            "tags": [],
            "needs_background": "light"
          }
        },
        {
          "output_type": "stream",
          "text": [
            "8\n",
            "[[0. 0. 0. 0. 0. 0. 0. 0. 1. 0.]]\n"
          ],
          "name": "stdout"
        },
        {
          "output_type": "display_data",
          "data": {
            "image/png": "[encoded data removed]",
            "text/plain": [
              "<Figure size 432x288 with 1 Axes>"
            ]
          },
          "metadata": {
            "tags": [],
            "needs_background": "light"
          }
        },
        {
          "output_type": "stream",
          "text": [
            "9\n",
            "[[0. 0. 0. 0. 0. 0. 0. 0. 0. 1.]]\n"
          ],
          "name": "stdout"
        },
        {
          "output_type": "display_data",
          "data": {
            "image/png": "[encoded data removed]",
            "text/plain": [
              "<Figure size 432x288 with 1 Axes>"
            ]
          },
          "metadata": {
            "tags": [],
            "needs_background": "light"
          }
        },
        {
          "output_type": "stream",
          "text": [
            "5\n",
            "[[0. 0. 0. 0. 0. 1. 0. 0. 0. 0.]]\n"
          ],
          "name": "stdout"
        }
      ]
    },
    {
      "cell_type": "code",
      "metadata": {
        "id": "gPcrQyoOGk9a"
      },
      "source": [
        "model.save('/content/drive/My Drive/Projects/digit.h5')"
      ],
      "execution_count": 26,
      "outputs": []
    }
  ]
}